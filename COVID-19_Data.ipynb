{
 "cells": [
  {
   "cell_type": "code",
   "execution_count": 2,
   "metadata": {},
   "outputs": [],
   "source": [
    "import pandas as pd\n",
    "from pandas import read_csv\n",
    "from pandas import read_json\n",
    "import datetime\n",
    "import numpy as np\n",
    "import json\n",
    "# !pip install seaborn\n",
    "# !pip install pandas\n"
   ]
  },
  {
   "cell_type": "code",
   "execution_count": 4,
   "metadata": {},
   "outputs": [],
   "source": [
    "# pd.read_csv(\"../static/data/us-counties.csv\")\n",
    "# counties_df = pd.read_json(\"../static/data/countiesGeoJson.json\")"
   ]
  },
  {
   "cell_type": "code",
   "execution_count": 13,
   "metadata": {},
   "outputs": [],
   "source": [
    "jsonDF = pd.read_json(r'countiesGeoJson.json', encoding='latin1')"
   ]
  },
  {
   "cell_type": "code",
   "execution_count": 15,
   "metadata": {},
   "outputs": [
    {
     "data": {
      "text/html": [
       "<div>\n",
       "<style scoped>\n",
       "    .dataframe tbody tr th:only-of-type {\n",
       "        vertical-align: middle;\n",
       "    }\n",
       "\n",
       "    .dataframe tbody tr th {\n",
       "        vertical-align: top;\n",
       "    }\n",
       "\n",
       "    .dataframe thead th {\n",
       "        text-align: right;\n",
       "    }\n",
       "</style>\n",
       "<table border=\"1\" class=\"dataframe\">\n",
       "  <thead>\n",
       "    <tr style=\"text-align: right;\">\n",
       "      <th></th>\n",
       "      <th>type</th>\n",
       "      <th>features</th>\n",
       "    </tr>\n",
       "  </thead>\n",
       "  <tbody>\n",
       "    <tr>\n",
       "      <th>0</th>\n",
       "      <td>FeatureCollection</td>\n",
       "      <td>{'type': 'Feature', 'properties': {'GEO_ID': '...</td>\n",
       "    </tr>\n",
       "  </tbody>\n",
       "</table>\n",
       "</div>"
      ],
      "text/plain": [
       "                type                                           features\n",
       "0  FeatureCollection  {'type': 'Feature', 'properties': {'GEO_ID': '..."
      ]
     },
     "execution_count": 15,
     "metadata": {},
     "output_type": "execute_result"
    }
   ],
   "source": [
    "jsonDF.iloc[[0]]"
   ]
  },
  {
   "cell_type": "code",
   "execution_count": 30,
   "metadata": {},
   "outputs": [
    {
     "name": "stdout",
     "output_type": "stream",
     "text": [
      "<class 'dict'>\n",
      "dict_keys(['type', 'properties', 'geometry'])\n",
      "type\n",
      "properties\n",
      "geometry\n"
     ]
    }
   ],
   "source": [
    "print(type(jsonDF.features[0]))\n",
    "print(jsonDF.features[0].keys())\n",
    "for i in jsonDF.features[0].keys():\n",
    "    print(i)"
   ]
  },
  {
   "cell_type": "code",
   "execution_count": 34,
   "metadata": {},
   "outputs": [
    {
     "data": {
      "text/plain": [
       "{'GEO_ID': '0500000US01029',\n",
       " 'STATE': '01',\n",
       " 'COUNTY': '029',\n",
       " 'NAME': 'Cleburne',\n",
       " 'LSAD': 'County',\n",
       " 'CENSUSAREA': 560.1}"
      ]
     },
     "execution_count": 34,
     "metadata": {},
     "output_type": "execute_result"
    }
   ],
   "source": [
    "jsonDF.features[0]['properties']"
   ]
  },
  {
   "cell_type": "code",
   "execution_count": 27,
   "metadata": {},
   "outputs": [
    {
     "name": "stdout",
     "output_type": "stream",
     "text": [
      "{'type': 'Feature', 'properties': {'GEO_ID': '0500000US01029', 'STATE': '01', 'COUNTY': '029', 'NAME': 'Cleburne', 'LSAD': 'County', 'CENSUSAREA': 560.1}, 'geometry': {'type': 'Polygon', 'coordinates': [[[-85.388717, 33.913044], [-85.380885, 33.873508], [-85.379455, 33.866291], [-85.377426, 33.856047], [-85.376403, 33.850656], [-85.364595, 33.788446], [-85.361844, 33.773951], [-85.360491, 33.767958], [-85.357402, 33.750104], [-85.355252, 33.739245], [-85.344054, 33.682684], [-85.342722, 33.675953], [-85.323792, 33.580339], [-85.31534, 33.537646], [-85.314994, 33.535898], [-85.314843, 33.534951], [-85.314091, 33.530218], [-85.313999, 33.529807], [-85.304439, 33.482884], [-85.308211, 33.481578999999996], [-85.30925, 33.483137], [-85.314852, 33.487603], [-85.316028, 33.488267], [-85.320893, 33.488359], [-85.324856, 33.489161], [-85.331061, 33.491014], [-85.33828, 33.4947], [-85.342544, 33.495961], [-85.344923, 33.497608], [-85.346705, 33.501148], [-85.349958, 33.501216], [-85.351594, 33.4996], [-85.354491, 33.498866], [-85.352576, 33.494538], [-85.352573, 33.492438], [-85.355315, 33.49248], [-85.497455, 33.494624], [-85.501645, 33.494456], [-85.51731, 33.494524], [-85.52513, 33.494781], [-85.527515, 33.494608], [-85.539922, 33.494743], [-85.563763, 33.495081], [-85.565653, 33.494992], [-85.623387, 33.495371], [-85.623645, 33.495373], [-85.627835, 33.495624], [-85.643482, 33.495885], [-85.66722, 33.496293], [-85.680346, 33.496623], [-85.740983, 33.498376], [-85.765427, 33.498593], [-85.765308, 33.496862], [-85.765631, 33.483477], [-85.781244, 33.483625], [-85.782689, 33.483638], [-85.782735, 33.469349], [-85.887782, 33.469427], [-85.887675, 33.476768], [-85.870053, 33.476757], [-85.869308, 33.491574], [-85.852421, 33.491644], [-85.85189, 33.498742], [-85.849839, 33.49969], [-85.796852, 33.541849], [-85.796054, 33.55622], [-85.744118, 33.556075], [-85.742348, 33.586553], [-85.742202, 33.600002], [-85.737379, 33.599823], [-85.724517, 33.59943], [-85.724953, 33.613539], [-85.72367, 33.613492], [-85.72365, 33.613491], [-85.723074, 33.613505], [-85.689954, 33.612909], [-85.69014, 33.615815], [-85.690716, 33.625105], [-85.690684, 33.627789], [-85.674932, 33.627254], [-85.65581, 33.627166], [-85.655549, 33.638127], [-85.651295, 33.637972], [-85.651283, 33.64157], [-85.64719, 33.641529], [-85.64704, 33.648772], [-85.638579, 33.648413], [-85.638586, 33.649158], [-85.638049, 33.773339], [-85.621245, 33.773508], [-85.621019, 33.782331], [-85.62089, 33.787944], [-85.603469, 33.787755], [-85.603465, 33.788474], [-85.603391, 33.802344], [-85.585985, 33.802095], [-85.585201, 33.84592], [-85.636882, 33.846495], [-85.637126, 33.846497], [-85.637012, 33.875273], [-85.637014, 33.875944], [-85.601899, 33.874865], [-85.601913, 33.875101], [-85.601858, 33.88975], [-85.597063, 33.889703], [-85.532482, 33.889152], [-85.531812, 33.903049], [-85.530094, 33.941423], [-85.49582, 33.942394], [-85.495289, 33.95691], [-85.425627, 33.957069], [-85.425444, 33.960645], [-85.407831, 33.960548], [-85.407637, 33.964204], [-85.398837, 33.964129], [-85.391495, 33.927068], [-85.388717, 33.913044]]]}}\n"
     ]
    }
   ],
   "source": [
    "for i in jsonDF.features:\n",
    "    print(i)\n",
    "    break"
   ]
  },
  {
   "cell_type": "code",
   "execution_count": 11,
   "metadata": {},
   "outputs": [],
   "source": [
    "counties = pd.read_csv(\"us-counties.csv\")\n"
   ]
  },
  {
   "cell_type": "code",
   "execution_count": null,
   "metadata": {},
   "outputs": [],
   "source": []
  },
  {
   "cell_type": "code",
   "execution_count": null,
   "metadata": {},
   "outputs": [],
   "source": []
  }
 ],
 "metadata": {
  "kernelspec": {
   "display_name": "Python 3",
   "language": "python",
   "name": "python3"
  },
  "language_info": {
   "codemirror_mode": {
    "name": "ipython",
    "version": 3
   },
   "file_extension": ".py",
   "mimetype": "text/x-python",
   "name": "python",
   "nbconvert_exporter": "python",
   "pygments_lexer": "ipython3",
   "version": "3.7.6"
  }
 },
 "nbformat": 4,
 "nbformat_minor": 4
}
