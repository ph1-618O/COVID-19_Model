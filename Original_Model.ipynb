{
 "cells": [
  {
   "cell_type": "code",
   "execution_count": 40,
   "metadata": {},
   "outputs": [],
   "source": [
    "import pandas as pd\n",
    "from pandas import read_csv\n",
    "from datetime import datetime\n",
    "from matplotlib import pyplot\n",
    "from pandas.plotting import autocorrelation_plot\n",
    "from statsmodels.tsa.arima_model import ARIMA\n",
    "from sklearn.metrics import mean_squared_error\n",
    "import matplotlib.pyplot as plt\n",
    "import numpy as np\n",
    "import datadotworld as dw"
   ]
  },
  {
   "cell_type": "code",
   "execution_count": 41,
   "metadata": {},
   "outputs": [],
   "source": [
    "#'SELECT * FROM 2_cases_and_deaths_by_county_timeseries LIMIT 10000')\n",
    "#'SELECT * FROM 2_cases_and_deaths_by_county_timeseries WHERE date(timestamp_field) = CURDATE();'\n",
    "#Connection to Database\n",
    "#conda install -c plotly plotly\n",
    "results = dw.query(\n",
    "    'associatedpress/johns-hopkins-coronavirus-case-tracker',\n",
    "    'SELECT * FROM 3_cases_and_deaths_by_state_timeseries')\n",
    "results_df = results.dataframe\n",
    "results_df = results_df[['state', 'date', 'total_population', 'cumulative_cases', 'cumulative_deaths']]\n",
    "results_df.to_csv(\"datadf.csv\")"
   ]
  },
  {
   "cell_type": "code",
   "execution_count": 42,
   "metadata": {},
   "outputs": [],
   "source": [
    "def parser(x):\n",
    "    return datetime.strptime(x, '%Y-%m-%d')"
   ]
  },
  {
   "cell_type": "code",
   "execution_count": 43,
   "metadata": {},
   "outputs": [
    {
     "data": {
      "text/html": [
       "<div>\n",
       "<style scoped>\n",
       "    .dataframe tbody tr th:only-of-type {\n",
       "        vertical-align: middle;\n",
       "    }\n",
       "\n",
       "    .dataframe tbody tr th {\n",
       "        vertical-align: top;\n",
       "    }\n",
       "\n",
       "    .dataframe thead th {\n",
       "        text-align: right;\n",
       "    }\n",
       "</style>\n",
       "<table border=\"1\" class=\"dataframe\">\n",
       "  <thead>\n",
       "    <tr style=\"text-align: right;\">\n",
       "      <th></th>\n",
       "      <th>date</th>\n",
       "    </tr>\n",
       "  </thead>\n",
       "  <tbody>\n",
       "    <tr>\n",
       "      <th>0</th>\n",
       "      <td>2020-01-22</td>\n",
       "    </tr>\n",
       "    <tr>\n",
       "      <th>1</th>\n",
       "      <td>2020-01-23</td>\n",
       "    </tr>\n",
       "    <tr>\n",
       "      <th>2</th>\n",
       "      <td>2020-01-24</td>\n",
       "    </tr>\n",
       "    <tr>\n",
       "      <th>3</th>\n",
       "      <td>2020-01-25</td>\n",
       "    </tr>\n",
       "    <tr>\n",
       "      <th>4</th>\n",
       "      <td>2020-01-26</td>\n",
       "    </tr>\n",
       "    <tr>\n",
       "      <th>...</th>\n",
       "      <td>...</td>\n",
       "    </tr>\n",
       "    <tr>\n",
       "      <th>18195</th>\n",
       "      <td>2020-12-07</td>\n",
       "    </tr>\n",
       "    <tr>\n",
       "      <th>18196</th>\n",
       "      <td>2020-12-08</td>\n",
       "    </tr>\n",
       "    <tr>\n",
       "      <th>18197</th>\n",
       "      <td>2020-12-09</td>\n",
       "    </tr>\n",
       "    <tr>\n",
       "      <th>18198</th>\n",
       "      <td>2020-12-10</td>\n",
       "    </tr>\n",
       "    <tr>\n",
       "      <th>18199</th>\n",
       "      <td>2020-12-11</td>\n",
       "    </tr>\n",
       "  </tbody>\n",
       "</table>\n",
       "<p>18200 rows × 1 columns</p>\n",
       "</div>"
      ],
      "text/plain": [
       "             date\n",
       "0      2020-01-22\n",
       "1      2020-01-23\n",
       "2      2020-01-24\n",
       "3      2020-01-25\n",
       "4      2020-01-26\n",
       "...           ...\n",
       "18195  2020-12-07\n",
       "18196  2020-12-08\n",
       "18197  2020-12-09\n",
       "18198  2020-12-10\n",
       "18199  2020-12-11\n",
       "\n",
       "[18200 rows x 1 columns]"
      ]
     },
     "execution_count": 43,
     "metadata": {},
     "output_type": "execute_result"
    }
   ],
   "source": [
    "results_df=pd.read_csv('datadf.csv')\n",
    "results_df[['date']]"
   ]
  },
  {
   "cell_type": "code",
   "execution_count": 44,
   "metadata": {},
   "outputs": [
    {
     "data": {
      "text/plain": [
       "str"
      ]
     },
     "execution_count": 44,
     "metadata": {},
     "output_type": "execute_result"
    }
   ],
   "source": [
    "type(results_df['date'][0])"
   ]
  },
  {
   "cell_type": "code",
   "execution_count": 45,
   "metadata": {},
   "outputs": [
    {
     "name": "stdout",
     "output_type": "stream",
     "text": [
      "Unnamed: 0\n",
      "state\n",
      "date\n",
      "total_population\n",
      "cumulative_cases\n",
      "cumulative_deaths\n"
     ]
    }
   ],
   "source": [
    "for col in results_df:\n",
    "    print(col)"
   ]
  },
  {
   "cell_type": "code",
   "execution_count": 46,
   "metadata": {},
   "outputs": [],
   "source": [
    "arima_df = results_df[['date','cumulative_cases', 'cumulative_deaths']]\n",
    "arima_df = arima_df.set_index(pd.DatetimeIndex(arima_df['date']))\n",
    "arima_df=arima_df.drop(arima_df.columns[0], axis=1)\n",
    "arima_df = arima_df.groupby(['date']).sum()\n",
    "arima_df.to_csv('modeldata.csv')"
   ]
  },
  {
   "cell_type": "code",
   "execution_count": 47,
   "metadata": {},
   "outputs": [
    {
     "name": "stdout",
     "output_type": "stream",
     "text": [
      "date\n",
      "2020-01-22    1\n",
      "2020-01-23    1\n",
      "2020-01-24    2\n",
      "2020-01-25    2\n",
      "2020-01-26    5\n",
      "Name: cumulative_cases, dtype: int64\n"
     ]
    },
    {
     "data": {
      "image/png": "[encoded data removed]",
      "text/plain": [
       "<Figure size 432x288 with 1 Axes>"
      ]
     },
     "metadata": {
      "needs_background": "light"
     },
     "output_type": "display_data"
    }
   ],
   "source": [
    "series = read_csv('modeldata.csv', header=0, parse_dates=[0], index_col=0, squeeze=True, date_parser=parser)\n",
    "series=series['cumulative_cases']\n",
    "print(series.head())\n",
    "series.plot()\n",
    "pyplot.show()"
   ]
  },
  {
   "cell_type": "code",
   "execution_count": 48,
   "metadata": {},
   "outputs": [],
   "source": [
    "# new_series=series.groupby(['date']).sum()"
   ]
  },
  {
   "cell_type": "code",
   "execution_count": 49,
   "metadata": {},
   "outputs": [
    {
     "data": {
      "image/png": "[encoded data removed]",
      "text/plain": [
       "<Figure size 432x288 with 1 Axes>"
      ]
     },
     "metadata": {
      "needs_background": "light"
     },
     "output_type": "display_data"
    }
   ],
   "source": [
    "autocorrelation_plot(series)\n",
    "pyplot.show()"
   ]
  },
  {
   "cell_type": "code",
   "execution_count": 50,
   "metadata": {},
   "outputs": [
    {
     "name": "stderr",
     "output_type": "stream",
     "text": [
      "/opt/anaconda3/lib/python3.7/site-packages/statsmodels/tsa/base/tsa_model.py:162: ValueWarning: No frequency information was provided, so inferred frequency D will be used.\n",
      "  % freq, ValueWarning)\n",
      "/opt/anaconda3/lib/python3.7/site-packages/statsmodels/tsa/base/tsa_model.py:162: ValueWarning: No frequency information was provided, so inferred frequency D will be used.\n",
      "  % freq, ValueWarning)\n"
     ]
    },
    {
     "name": "stdout",
     "output_type": "stream",
     "text": [
      "                             ARIMA Model Results                              \n",
      "==============================================================================\n",
      "Dep. Variable:     D.cumulative_cases   No. Observations:                  324\n",
      "Model:                 ARIMA(5, 1, 0)   Log Likelihood               -3444.407\n",
      "Method:                       css-mle   S.D. of innovations           9936.871\n",
      "Date:                Sat, 12 Dec 2020   AIC                           6902.813\n",
      "Time:                        11:30:02   BIC                           6929.278\n",
      "Sample:                    01-23-2020   HQIC                          6913.377\n",
      "                         - 12-11-2020                                         \n",
      "============================================================================================\n",
      "                               coef    std err          z      P>|z|      [0.025      0.975]\n",
      "--------------------------------------------------------------------------------------------\n",
      "const                      4.89e+04   1.49e+05      0.327      0.743   -2.44e+05    3.42e+05\n",
      "ar.L1.D.cumulative_cases     0.6198      0.056     11.141      0.000       0.511       0.729\n",
      "ar.L2.D.cumulative_cases     0.1526      0.065      2.362      0.018       0.026       0.279\n",
      "ar.L3.D.cumulative_cases     0.0255      0.065      0.391      0.695      -0.102       0.153\n",
      "ar.L4.D.cumulative_cases     0.1596      0.065      2.473      0.013       0.033       0.286\n",
      "ar.L5.D.cumulative_cases     0.0404      0.056      0.721      0.471      -0.069       0.150\n",
      "                                    Roots                                    \n",
      "=============================================================================\n",
      "                  Real          Imaginary           Modulus         Frequency\n",
      "-----------------------------------------------------------------------------\n",
      "AR.1            1.0011           -0.0000j            1.0011           -0.0000\n",
      "AR.2            0.4845           -1.6486j            1.7183           -0.2045\n",
      "AR.3            0.4845           +1.6486j            1.7183            0.2045\n",
      "AR.4           -2.3356           -0.0000j            2.3356           -0.5000\n",
      "AR.5           -3.5825           -0.0000j            3.5825           -0.5000\n",
      "-----------------------------------------------------------------------------\n"
     ]
    },
    {
     "data": {
      "image/png": "[encoded data removed]",
      "text/plain": [
       "<Figure size 432x288 with 1 Axes>"
      ]
     },
     "metadata": {
      "needs_background": "light"
     },
     "output_type": "display_data"
    },
    {
     "name": "stdout",
     "output_type": "stream",
     "text": [
      "                  0\n",
      "count    324.000000\n",
      "mean    1136.017900\n",
      "std    10251.798661\n",
      "min   -62576.058061\n",
      "25%    -1698.273092\n",
      "50%      110.066280\n",
      "75%     3804.524429\n",
      "max    71600.821058\n"
     ]
    }
   ],
   "source": [
    "model = ARIMA(series, order=(5,1,0))\n",
    "model_fit = model.fit(disp=0)\n",
    "print(model_fit.summary())\n",
    "# plot residual errors\n",
    "residuals = pd.DataFrame(model_fit.resid)\n",
    "residuals.plot()\n",
    "pyplot.show()\n",
    "# residuals.plot(kind='kde')\n",
    "# pyplot.show()\n",
    "print(residuals.describe())"
   ]
  },
  {
   "cell_type": "code",
   "execution_count": 51,
   "metadata": {},
   "outputs": [
    {
     "name": "stdout",
     "output_type": "stream",
     "text": [
      "predicted=47299.950848, expected=6235808.000000\n",
      "predicted=42939.802612, expected=6267319.000000\n",
      "predicted=30738.809936, expected=6290864.000000\n",
      "predicted=25614.286521, expected=6317709.000000\n",
      "predicted=32771.887781, expected=6351604.000000\n",
      "predicted=38695.971271, expected=6387670.000000\n",
      "predicted=36341.497461, expected=6435109.000000\n",
      "predicted=42833.673644, expected=6476112.000000\n",
      "predicted=38019.340467, expected=6510417.000000\n",
      "predicted=31249.880271, expected=6544259.000000\n",
      "predicted=32855.882254, expected=6583644.000000\n",
      "predicted=42679.941315, expected=6622104.000000\n",
      "predicted=39988.842300, expected=6667026.000000\n",
      "predicted=42561.598109, expected=6715776.000000\n",
      "predicted=46307.630531, expected=6758288.000000\n",
      "predicted=41027.240055, expected=6796732.000000\n",
      "predicted=36284.294476, expected=6848227.000000\n",
      "predicted=51076.203482, expected=6887709.000000\n",
      "predicted=42701.620099, expected=6926290.000000\n",
      "predicted=37562.375552, expected=6972000.000000\n",
      "predicted=43857.187711, expected=7020054.000000\n",
      "predicted=50243.698828, expected=7064448.000000\n",
      "predicted=42760.873236, expected=7101728.000000\n",
      "predicted=36045.625745, expected=7134012.000000\n",
      "predicted=34161.963642, expected=7176704.000000\n",
      "predicted=44926.387752, expected=7217900.000000\n",
      "predicted=42979.706864, expected=7263257.000000\n",
      "predicted=43360.932888, expected=7317726.000000\n",
      "predicted=49889.749544, expected=7366353.000000\n",
      "predicted=47210.796326, expected=7402445.000000\n",
      "predicted=34946.936305, expected=7441280.000000\n",
      "predicted=39455.398875, expected=7485229.000000\n",
      "predicted=47477.045040, expected=7535870.000000\n",
      "predicted=51421.889940, expected=7594199.000000\n",
      "predicted=53847.239492, expected=7650193.000000\n",
      "predicted=51479.260335, expected=7704267.000000\n",
      "predicted=50595.515454, expected=7750215.000000\n",
      "predicted=45408.705035, expected=7790738.000000\n",
      "predicted=43523.573458, expected=7843617.000000\n",
      "predicted=54900.565049, expected=7903090.000000\n",
      "predicted=60112.477452, expected=7967448.000000\n",
      "predicted=60680.660570, expected=8035897.000000\n"
     ]
    },
    {
     "name": "stderr",
     "output_type": "stream",
     "text": [
      "/opt/anaconda3/lib/python3.7/site-packages/statsmodels/base/model.py:568: ConvergenceWarning: Maximum Likelihood optimization failed to converge. Check mle_retvals\n",
      "  \"Check mle_retvals\", ConvergenceWarning)\n"
     ]
    },
    {
     "name": "stdout",
     "output_type": "stream",
     "text": [
      "predicted=61364.632143, expected=8092851.000000\n",
      "predicted=53839.092931, expected=8142205.000000\n",
      "predicted=49319.950824, expected=8209074.000000\n",
      "predicted=67745.753896, expected=8270162.000000\n",
      "predicted=63898.896565, expected=8333188.000000\n",
      "predicted=61930.924312, expected=8408523.000000\n",
      "predicted=68123.574900, expected=8489510.000000\n"
     ]
    },
    {
     "name": "stderr",
     "output_type": "stream",
     "text": [
      "/opt/anaconda3/lib/python3.7/site-packages/statsmodels/base/model.py:568: ConvergenceWarning: Maximum Likelihood optimization failed to converge. Check mle_retvals\n",
      "  \"Check mle_retvals\", ConvergenceWarning)\n"
     ]
    },
    {
     "name": "stdout",
     "output_type": "stream",
     "text": [
      "predicted=78881.640532, expected=8572331.000000\n",
      "predicted=77996.587601, expected=8634133.000000\n",
      "predicted=58182.416236, expected=8700637.000000\n",
      "predicted=68017.568398, expected=8776638.000000\n",
      "predicted=77883.491624, expected=8855322.000000\n",
      "predicted=81041.121097, expected=8945490.000000\n",
      "predicted=84048.947620, expected=9044009.000000\n",
      "predicted=91375.793919, expected=9132946.000000\n",
      "predicted=84472.016033, expected=9208517.000000\n",
      "predicted=73313.773405, expected=9292004.000000\n",
      "predicted=85257.068375, expected=9416557.000000\n",
      "predicted=125055.593127, expected=9519430.000000\n",
      "predicted=94211.514301, expected=9645620.000000\n",
      "predicted=112951.081608, expected=9771328.000000\n",
      "predicted=112397.490817, expected=9899364.000000\n",
      "predicted=127456.880967, expected=10009390.000000\n",
      "predicted=108493.066288, expected=10130600.000000\n",
      "predicted=121359.500196, expected=10268294.000000\n",
      "predicted=135983.225653, expected=10411943.000000\n",
      "predicted=139287.179785, expected=10573090.000000\n",
      "predicted=151459.381716, expected=10750658.000000\n",
      "predicted=169978.297732, expected=10917408.000000\n"
     ]
    },
    {
     "name": "stderr",
     "output_type": "stream",
     "text": [
      "/opt/anaconda3/lib/python3.7/site-packages/statsmodels/base/model.py:568: ConvergenceWarning: Maximum Likelihood optimization failed to converge. Check mle_retvals\n",
      "  \"Check mle_retvals\", ConvergenceWarning)\n"
     ]
    },
    {
     "name": "stdout",
     "output_type": "stream",
     "text": [
      "predicted=161910.894001, expected=11053349.000000\n"
     ]
    },
    {
     "name": "stderr",
     "output_type": "stream",
     "text": [
      "/opt/anaconda3/lib/python3.7/site-packages/statsmodels/base/model.py:568: ConvergenceWarning: Maximum Likelihood optimization failed to converge. Check mle_retvals\n",
      "  \"Check mle_retvals\", ConvergenceWarning)\n"
     ]
    },
    {
     "name": "stdout",
     "output_type": "stream",
     "text": [
      "predicted=134690.193115, expected=11211169.000000\n",
      "predicted=160041.936557, expected=11371743.000000\n",
      "predicted=162938.676819, expected=11542256.000000\n",
      "predicted=168153.594125, expected=11730289.000000\n",
      "predicted=179114.783578, expected=11925807.000000\n",
      "predicted=189532.325148, expected=12103904.000000\n",
      "predicted=173974.002255, expected=12246711.000000\n",
      "predicted=144488.738439, expected=12418226.000000\n",
      "predicted=177603.809106, expected=12591214.000000\n",
      "predicted=176210.836221, expected=12772501.000000\n",
      "predicted=179163.251358, expected=12883155.000000\n",
      "predicted=120424.621674, expected=13088669.000000\n",
      "predicted=172627.243827, expected=13244549.000000\n",
      "predicted=191214.608030, expected=13383182.000000\n",
      "predicted=135656.056783, expected=13541033.000000\n",
      "predicted=159149.845931, expected=13721670.000000\n",
      "predicted=165474.726160, expected=13921777.000000\n"
     ]
    },
    {
     "name": "stderr",
     "output_type": "stream",
     "text": [
      "/opt/anaconda3/lib/python3.7/site-packages/statsmodels/base/model.py:568: ConvergenceWarning: Maximum Likelihood optimization failed to converge. Check mle_retvals\n",
      "  \"Check mle_retvals\", ConvergenceWarning)\n"
     ]
    },
    {
     "name": "stdout",
     "output_type": "stream",
     "text": [
      "predicted=180059.280443, expected=14139457.000000\n",
      "predicted=199705.981845, expected=14367285.000000\n",
      "predicted=216995.168573, expected=14581166.000000\n",
      "predicted=214191.125048, expected=14756830.000000\n",
      "predicted=190757.742394, expected=14949265.000000\n",
      "predicted=196278.627630, expected=15165143.000000\n",
      "predicted=210597.991008, expected=15386410.000000\n",
      "predicted=210879.430919, expected=15610862.000000\n",
      "predicted=215552.823541, expected=15842637.000000\n",
      "Test MSE: 94330057845767.484\n"
     ]
    },
    {
     "data": {
      "image/png": "[encoded data removed]",
      "text/plain": [
       "<Figure size 432x288 with 1 Axes>"
      ]
     },
     "metadata": {
      "needs_background": "light"
     },
     "output_type": "display_data"
    },
    {
     "data": {
      "text/plain": [
       "<Figure size 1440x720 with 0 Axes>"
      ]
     },
     "metadata": {},
     "output_type": "display_data"
    }
   ],
   "source": [
    "X = series.values\n",
    "size = int(len(X)* 0.70)\n",
    "train, test = X[0:size], X[size:len(X)]\n",
    "history = [x for x in train]\n",
    "predictions = list()\n",
    "for t in range(len(test)):\n",
    "\tmodel = ARIMA(history, order=(5,1,0))\n",
    "\tmodel_fit = model.fit(disp=0)\n",
    "\toutput = model_fit.predict(365)\n",
    "\tyhat = output[0]\n",
    "\tpredictions.append(yhat)\n",
    "\tobs = test[t]\n",
    "\thistory.append(obs)\n",
    "\tprint('predicted=%f, expected=%f' % (yhat, obs))\n",
    "error = mean_squared_error(test, predictions)\n",
    "print('Test MSE: %.3f' % error)\n",
    "# plot\n",
    "pyplot.plot(test)\n",
    "pyplot.plot(predictions, color='red')\n",
    "plt.figure(figsize=(20,10))\n",
    "pyplot.show()\n"
   ]
  },
  {
   "cell_type": "code",
   "execution_count": 54,
   "metadata": {},
   "outputs": [
    {
     "data": {
      "text/plain": [
       "array([215553., 215414., 216217., 217341., 216867., 216251., 215947.,\n",
       "       215888., 215779., 215571., 215343., 215144., 214964., 214779.,\n",
       "       214588., 214394., 214203., 214014., 213825., 213635., 213446.,\n",
       "       213257., 213068., 212879., 212691., 212503., 212315., 212127.,\n",
       "       211939., 211752., 211565., 211378., 211191., 211005., 210818.,\n",
       "       210632., 210446., 210261., 210075., 209890., 209705., 209520.])"
      ]
     },
     "execution_count": 54,
     "metadata": {},
     "output_type": "execute_result"
    }
   ],
   "source": [
    "# today=len(history)\n",
    "# today\n",
    "predict=np.round(output)\n",
    "predict"
   ]
  },
  {
   "cell_type": "code",
   "execution_count": 31,
   "metadata": {},
   "outputs": [
    {
     "data": {
      "image/png": "[encoded data removed]",
      "text/plain": [
       "<Figure size 432x288 with 1 Axes>"
      ]
     },
     "metadata": {
      "needs_background": "light"
     },
     "output_type": "display_data"
    },
    {
     "data": {
      "image/png": "[encoded data removed]",
      "text/plain": [
       "<Figure size 1440x720 with 1 Axes>"
      ]
     },
     "metadata": {
      "needs_background": "light"
     },
     "output_type": "display_data"
    }
   ],
   "source": [
    "X = series.values\n",
    "size = int(len(X)* 0.70)\n",
    "train, test = X[0:size], X[size:len(X)]\n",
    "history = [x for x in train]\n",
    "predictions = [today + i for i in range(1,366)]\n",
    "\n",
    "\n",
    "model = ARIMA(history, order=(5,1,0))\n",
    "model_fit = model.fit(disp=0)\n",
    "output = model_fit.forecast(steps=365)[0]\n",
    "pyplot.plot(history)\n",
    "pyplot.plot(predictions,output, color='red')\n",
    "plt.figure(figsize=(20,10))\n",
    "pyplot.xticks()\n",
    "pyplot.show()\n"
   ]
  },
  {
   "cell_type": "code",
   "execution_count": null,
   "metadata": {},
   "outputs": [],
   "source": [
    "data = {'a': np.arange(50),\n",
    "        'c': np.random.randint(0, 50, 50),\n",
    "        'd': np.random.randn(50)}\n",
    "data['b'] = data['a'] + 10 * np.random.randn(50)\n",
    "data['d'] = np.abs(data['d']) * 100\n",
    "\n",
    "plt.scatter('a', 'b', c='c', s='d', data=data)\n",
    "plt.xlabel('entry a')\n",
    "plt.ylabel('entry b')\n",
    "plt.show()"
   ]
  },
  {
   "cell_type": "code",
   "execution_count": null,
   "metadata": {},
   "outputs": [],
   "source": []
  }
 ],
 "metadata": {
  "kernelspec": {
   "display_name": "Python 3",
   "language": "python",
   "name": "python3"
  },
  "language_info": {
   "codemirror_mode": {
    "name": "ipython",
    "version": 3
   },
   "file_extension": ".py",
   "mimetype": "text/x-python",
   "name": "python",
   "nbconvert_exporter": "python",
   "pygments_lexer": "ipython3",
   "version": "3.7.6"
  }
 },
 "nbformat": 4,
 "nbformat_minor": 4
}
