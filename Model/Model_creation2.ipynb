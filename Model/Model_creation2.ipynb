{
 "cells": [
  {
   "cell_type": "code",
   "execution_count": 1,
   "metadata": {},
   "outputs": [],
   "source": [
    "import pandas as pd\n",
    "from pandas import read_csv\n",
    "from datetime import datetime\n",
    "from matplotlib import pyplot\n",
    "from pandas.plotting import autocorrelation_plot\n",
    "from statsmodels.tsa.arima_model import ARIMA\n",
    "\n",
    "def parser(x):\n",
    "    return datetime.strptime(x, '%Y-%m-%d')"
   ]
  },
  {
   "cell_type": "code",
   "execution_count": 2,
   "metadata": {
    "scrolled": true
   },
   "outputs": [
    {
     "data": {
      "text/html": [
       "<div>\n",
       "<style scoped>\n",
       "    .dataframe tbody tr th:only-of-type {\n",
       "        vertical-align: middle;\n",
       "    }\n",
       "\n",
       "    .dataframe tbody tr th {\n",
       "        vertical-align: top;\n",
       "    }\n",
       "\n",
       "    .dataframe thead th {\n",
       "        text-align: right;\n",
       "    }\n",
       "</style>\n",
       "<table border=\"1\" class=\"dataframe\">\n",
       "  <thead>\n",
       "    <tr style=\"text-align: right;\">\n",
       "      <th></th>\n",
       "      <th>Unnamed: 0</th>\n",
       "      <th>state</th>\n",
       "      <th>date</th>\n",
       "      <th>code</th>\n",
       "      <th>total_population</th>\n",
       "      <th>new_cases</th>\n",
       "      <th>new_deaths</th>\n",
       "    </tr>\n",
       "  </thead>\n",
       "  <tbody>\n",
       "    <tr>\n",
       "      <th>0</th>\n",
       "      <td>0</td>\n",
       "      <td>Alabama</td>\n",
       "      <td>2020-01-22</td>\n",
       "      <td>AL</td>\n",
       "      <td>4887871.0</td>\n",
       "      <td>0.0</td>\n",
       "      <td>0.0</td>\n",
       "    </tr>\n",
       "    <tr>\n",
       "      <th>1</th>\n",
       "      <td>1</td>\n",
       "      <td>Alabama</td>\n",
       "      <td>2020-01-23</td>\n",
       "      <td>AL</td>\n",
       "      <td>4887871.0</td>\n",
       "      <td>0.0</td>\n",
       "      <td>0.0</td>\n",
       "    </tr>\n",
       "    <tr>\n",
       "      <th>2</th>\n",
       "      <td>2</td>\n",
       "      <td>Alabama</td>\n",
       "      <td>2020-01-24</td>\n",
       "      <td>AL</td>\n",
       "      <td>4887871.0</td>\n",
       "      <td>0.0</td>\n",
       "      <td>0.0</td>\n",
       "    </tr>\n",
       "    <tr>\n",
       "      <th>3</th>\n",
       "      <td>3</td>\n",
       "      <td>Alabama</td>\n",
       "      <td>2020-01-25</td>\n",
       "      <td>AL</td>\n",
       "      <td>4887871.0</td>\n",
       "      <td>0.0</td>\n",
       "      <td>0.0</td>\n",
       "    </tr>\n",
       "    <tr>\n",
       "      <th>4</th>\n",
       "      <td>4</td>\n",
       "      <td>Alabama</td>\n",
       "      <td>2020-01-26</td>\n",
       "      <td>AL</td>\n",
       "      <td>4887871.0</td>\n",
       "      <td>0.0</td>\n",
       "      <td>0.0</td>\n",
       "    </tr>\n",
       "    <tr>\n",
       "      <th>...</th>\n",
       "      <td>...</td>\n",
       "      <td>...</td>\n",
       "      <td>...</td>\n",
       "      <td>...</td>\n",
       "      <td>...</td>\n",
       "      <td>...</td>\n",
       "      <td>...</td>\n",
       "    </tr>\n",
       "    <tr>\n",
       "      <th>16570</th>\n",
       "      <td>16570</td>\n",
       "      <td>Wyoming</td>\n",
       "      <td>2020-12-07</td>\n",
       "      <td>WY</td>\n",
       "      <td>577737.0</td>\n",
       "      <td>668.0</td>\n",
       "      <td>23.0</td>\n",
       "    </tr>\n",
       "    <tr>\n",
       "      <th>16571</th>\n",
       "      <td>16571</td>\n",
       "      <td>Wyoming</td>\n",
       "      <td>2020-12-08</td>\n",
       "      <td>WY</td>\n",
       "      <td>577737.0</td>\n",
       "      <td>490.0</td>\n",
       "      <td>0.0</td>\n",
       "    </tr>\n",
       "    <tr>\n",
       "      <th>16572</th>\n",
       "      <td>16572</td>\n",
       "      <td>Wyoming</td>\n",
       "      <td>2020-12-09</td>\n",
       "      <td>WY</td>\n",
       "      <td>577737.0</td>\n",
       "      <td>410.0</td>\n",
       "      <td>10.0</td>\n",
       "    </tr>\n",
       "    <tr>\n",
       "      <th>16573</th>\n",
       "      <td>16573</td>\n",
       "      <td>Wyoming</td>\n",
       "      <td>2020-12-10</td>\n",
       "      <td>WY</td>\n",
       "      <td>577737.0</td>\n",
       "      <td>338.0</td>\n",
       "      <td>0.0</td>\n",
       "    </tr>\n",
       "    <tr>\n",
       "      <th>16574</th>\n",
       "      <td>16574</td>\n",
       "      <td>Wyoming</td>\n",
       "      <td>2020-12-11</td>\n",
       "      <td>WY</td>\n",
       "      <td>577737.0</td>\n",
       "      <td>562.0</td>\n",
       "      <td>22.0</td>\n",
       "    </tr>\n",
       "  </tbody>\n",
       "</table>\n",
       "<p>16575 rows × 7 columns</p>\n",
       "</div>"
      ],
      "text/plain": [
       "       Unnamed: 0    state        date code  total_population  new_cases  \\\n",
       "0               0  Alabama  2020-01-22   AL         4887871.0        0.0   \n",
       "1               1  Alabama  2020-01-23   AL         4887871.0        0.0   \n",
       "2               2  Alabama  2020-01-24   AL         4887871.0        0.0   \n",
       "3               3  Alabama  2020-01-25   AL         4887871.0        0.0   \n",
       "4               4  Alabama  2020-01-26   AL         4887871.0        0.0   \n",
       "...           ...      ...         ...  ...               ...        ...   \n",
       "16570       16570  Wyoming  2020-12-07   WY          577737.0      668.0   \n",
       "16571       16571  Wyoming  2020-12-08   WY          577737.0      490.0   \n",
       "16572       16572  Wyoming  2020-12-09   WY          577737.0      410.0   \n",
       "16573       16573  Wyoming  2020-12-10   WY          577737.0      338.0   \n",
       "16574       16574  Wyoming  2020-12-11   WY          577737.0      562.0   \n",
       "\n",
       "       new_deaths  \n",
       "0             0.0  \n",
       "1             0.0  \n",
       "2             0.0  \n",
       "3             0.0  \n",
       "4             0.0  \n",
       "...           ...  \n",
       "16570        23.0  \n",
       "16571         0.0  \n",
       "16572        10.0  \n",
       "16573         0.0  \n",
       "16574        22.0  \n",
       "\n",
       "[16575 rows x 7 columns]"
      ]
     },
     "execution_count": 2,
     "metadata": {},
     "output_type": "execute_result"
    }
   ],
   "source": [
    "series = pd.read_csv('data_johns_hopkins_sum_12-12-2020.csv')\n",
    "series"
   ]
  },
  {
   "cell_type": "code",
   "execution_count": 10,
   "metadata": {},
   "outputs": [
    {
     "name": "stdout",
     "output_type": "stream",
     "text": [
      "            new_cases\n",
      "datetime             \n",
      "2020-01-22        0.0\n",
      "2020-01-23        0.0\n",
      "2020-01-24        0.0\n",
      "2020-01-25        0.0\n",
      "2020-01-26        0.0\n"
     ]
    },
    {
     "data": {
      "image/png": "[encoded data removed]",
      "text/plain": [
       "<Figure size 432x288 with 1 Axes>"
      ]
     },
     "metadata": {
      "needs_background": "light"
     },
     "output_type": "display_data"
    }
   ],
   "source": [
    "series = read_csv('data_johns_hopkins_sum_12-12-2020.csv', header=0, index_col=0, squeeze=True)\n",
    "datetimeCol = []\n",
    "for i in series['date']:\n",
    "    datetimeCol.append(parser(i))\n",
    "series['datetime'] = datetimeCol\n",
    "series = series.set_index('datetime')\n",
    "series = series[['new_cases']]\n",
    "print(series.head())\n",
    "series.plot()\n",
    "pyplot.show()\n",
    "latest_series = series"
   ]
  },
  {
   "cell_type": "code",
   "execution_count": 11,
   "metadata": {},
   "outputs": [],
   "source": [
    "ARIMA?"
   ]
  },
  {
   "cell_type": "code",
   "execution_count": 12,
   "metadata": {},
   "outputs": [],
   "source": [
    "# new_series=series[['new_cases']]\n",
    "# latest_series=new_series.groupby(['date']).sum()\n",
    "# latest_series.plot()"
   ]
  },
  {
   "cell_type": "code",
   "execution_count": 13,
   "metadata": {},
   "outputs": [
    {
     "data": {
      "image/png": "[encoded data removed]",
      "text/plain": [
       "<Figure size 432x288 with 1 Axes>"
      ]
     },
     "metadata": {
      "needs_background": "light"
     },
     "output_type": "display_data"
    }
   ],
   "source": [
    "autocorrelation_plot(latest_series)\n",
    "pyplot.show()"
   ]
  },
  {
   "cell_type": "code",
   "execution_count": 14,
   "metadata": {},
   "outputs": [
    {
     "name": "stderr",
     "output_type": "stream",
     "text": [
      "/Users/Jen/anaconda3/lib/python3.7/site-packages/statsmodels/tsa/base/tsa_model.py:218: ValueWarning: A date index has been provided, but it has no associated frequency information and so will be ignored when e.g. forecasting.\n",
      "  ' ignored when e.g. forecasting.', ValueWarning)\n",
      "/Users/Jen/anaconda3/lib/python3.7/site-packages/statsmodels/tsa/base/tsa_model.py:222: ValueWarning: A date index has been provided, but it is not monotonic and so will be ignored when e.g. forecasting.\n",
      "  ' forecasting.', ValueWarning)\n",
      "/Users/Jen/anaconda3/lib/python3.7/site-packages/statsmodels/tsa/base/tsa_model.py:218: ValueWarning: A date index has been provided, but it has no associated frequency information and so will be ignored when e.g. forecasting.\n",
      "  ' ignored when e.g. forecasting.', ValueWarning)\n",
      "/Users/Jen/anaconda3/lib/python3.7/site-packages/statsmodels/tsa/base/tsa_model.py:222: ValueWarning: A date index has been provided, but it is not monotonic and so will be ignored when e.g. forecasting.\n",
      "  ' forecasting.', ValueWarning)\n"
     ]
    },
    {
     "name": "stdout",
     "output_type": "stream",
     "text": [
      "                             ARIMA Model Results                              \n",
      "==============================================================================\n",
      "Dep. Variable:            D.new_cases   No. Observations:                16574\n",
      "Model:                 ARIMA(5, 1, 0)   Log Likelihood             -135990.881\n",
      "Method:                       css-mle   S.D. of innovations            885.473\n",
      "Date:                Mon, 14 Dec 2020   AIC                         271995.763\n",
      "Time:                        16:42:13   BIC                         272049.772\n",
      "Sample:                             1   HQIC                        272013.595\n",
      "                                                                              \n",
      "=====================================================================================\n",
      "                        coef    std err          z      P>|z|      [0.025      0.975]\n",
      "-------------------------------------------------------------------------------------\n",
      "const                 0.0339      3.010      0.011      0.991      -5.865       5.933\n",
      "ar.L1.D.new_cases    -0.5502      0.008    -71.076      0.000      -0.565      -0.535\n",
      "ar.L2.D.new_cases    -0.3084      0.009    -35.116      0.000      -0.326      -0.291\n",
      "ar.L3.D.new_cases    -0.2122      0.009    -23.705      0.000      -0.230      -0.195\n",
      "ar.L4.D.new_cases    -0.1320      0.009    -15.027      0.000      -0.149      -0.115\n",
      "ar.L5.D.new_cases    -0.0826      0.008    -10.672      0.000      -0.098      -0.067\n",
      "                                    Roots                                    \n",
      "=============================================================================\n",
      "                  Real          Imaginary           Modulus         Frequency\n",
      "-----------------------------------------------------------------------------\n",
      "AR.1            0.8519           -1.3720j            1.6149           -0.1616\n",
      "AR.2            0.8519           +1.3720j            1.6149            0.1616\n",
      "AR.3           -1.6217           -0.0000j            1.6217           -0.5000\n",
      "AR.4           -0.8399           -1.4686j            1.6919           -0.3327\n",
      "AR.5           -0.8399           +1.4686j            1.6919            0.3327\n",
      "-----------------------------------------------------------------------------\n"
     ]
    },
    {
     "data": {
      "image/png": "[encoded data removed]",
      "text/plain": [
       "<Figure size 432x288 with 1 Axes>"
      ]
     },
     "metadata": {
      "needs_background": "light"
     },
     "output_type": "display_data"
    },
    {
     "name": "stdout",
     "output_type": "stream",
     "text": [
      "                  0\n",
      "count  16574.000000\n",
      "mean      -0.011262\n",
      "std      885.500202\n",
      "min   -32026.089976\n",
      "25%      -55.465406\n",
      "50%       -0.077494\n",
      "75%       68.650275\n",
      "max    30310.584950\n"
     ]
    }
   ],
   "source": [
    "model = ARIMA(latest_series, order=(5,1,0))\n",
    "model_fit = model.fit(disp=0)\n",
    "print(model_fit.summary())\n",
    "# plot residual errors\n",
    "residuals = pd.DataFrame(model_fit.resid)\n",
    "residuals.plot()\n",
    "pyplot.show()\n",
    "# residuals.plot(kind='kde')\n",
    "# pyplot.show()\n",
    "print(residuals.describe())"
   ]
  },
  {
   "cell_type": "code",
   "execution_count": null,
   "metadata": {},
   "outputs": [],
   "source": [
    "# predict_2020 = model.predict(latest_series)\n",
    "\n",
    "# results_df = pd.DataFrame(latest_series)\n",
    "# results_df['predicted'] = model.predict(predict_2020)"
   ]
  },
  {
   "cell_type": "markdown",
   "metadata": {},
   "source": [
    "regression: R2 (.score()), MSE\n",
    "https://scikit-learn.org/stable/modules/generated/sklearn.metrics.mean_squared_error.html\n",
    "\n",
    "(lower the better)"
   ]
  },
  {
   "cell_type": "code",
   "execution_count": null,
   "metadata": {},
   "outputs": [],
   "source": [
    "import numpy as np\n",
    "np.average(residuals ** 2)"
   ]
  },
  {
   "cell_type": "code",
   "execution_count": null,
   "metadata": {},
   "outputs": [],
   "source": []
  }
 ],
 "metadata": {
  "kernelspec": {
   "display_name": "Python 3",
   "language": "python",
   "name": "python3"
  },
  "language_info": {
   "codemirror_mode": {
    "name": "ipython",
    "version": 3
   },
   "file_extension": ".py",
   "mimetype": "text/x-python",
   "name": "python",
   "nbconvert_exporter": "python",
   "pygments_lexer": "ipython3",
   "version": "3.7.7"
  }
 },
 "nbformat": 4,
 "nbformat_minor": 4
}
